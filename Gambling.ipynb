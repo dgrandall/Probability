{
 "cells": [
  {
   "cell_type": "code",
   "execution_count": 1,
   "id": "0d6fa7c2",
   "metadata": {},
   "outputs": [],
   "source": [
    "# import the needed libraries \n",
    "import math as m "
   ]
  },
  {
   "cell_type": "code",
   "execution_count": 2,
   "id": "571db2e8",
   "metadata": {},
   "outputs": [
    {
     "data": {
      "text/plain": [
       "24"
      ]
     },
     "execution_count": 2,
     "metadata": {},
     "output_type": "execute_result"
    }
   ],
   "source": [
    "m.factorial(4)"
   ]
  },
  {
   "cell_type": "code",
   "execution_count": 3,
   "id": "9ce36ffb",
   "metadata": {},
   "outputs": [],
   "source": [
    "# first we determine the number of numbers that you can choose from \n",
    "# ex. 1-49  would be 49 numbers \n",
    "options = 49 "
   ]
  },
  {
   "cell_type": "code",
   "execution_count": 4,
   "id": "789a6c0e",
   "metadata": {},
   "outputs": [],
   "source": [
    "# then we determine how many numbers have to be correct to win the big prize \n",
    "# ex. we need to \"guess\" 6 numbers correctly \n",
    "correct_num = 6 "
   ]
  },
  {
   "cell_type": "code",
   "execution_count": 5,
   "id": "7b035373",
   "metadata": {},
   "outputs": [
    {
     "name": "stdout",
     "output_type": "stream",
     "text": [
      "13983816.0\n"
     ]
    }
   ],
   "source": [
    "# we will use combanations for this calcultation since order is NOT important and repetition is NOT allowed \n",
    "# https://drive.google.com/file/d/1LMdF5Z05-RnsAnnCGJsgZlkh9G8j7Rfz/view?usp=drive_link\n",
    "# for this example it is 49 C 6\n",
    "possibilies = (m.factorial(options)/(m.factorial(options-correct_num)* m.factorial(correct_num)))\n",
    "print(possibilies)"
   ]
  },
  {
   "cell_type": "code",
   "execution_count": 6,
   "id": "caf7d188",
   "metadata": {},
   "outputs": [
    {
     "name": "stdout",
     "output_type": "stream",
     "text": [
      "7.151123842018516e-08\n"
     ]
    }
   ],
   "source": [
    "chance_win = 1 / possibilies \n",
    "print(chance_win)"
   ]
  },
  {
   "cell_type": "code",
   "execution_count": 7,
   "id": "fcea4c9e",
   "metadata": {},
   "outputs": [
    {
     "name": "stdout",
     "output_type": "stream",
     "text": [
      "0.9999999284887616\n"
     ]
    }
   ],
   "source": [
    "chance_lose = 1 - chance_win\n",
    "print(chance_lose)"
   ]
  },
  {
   "cell_type": "code",
   "execution_count": 8,
   "id": "66c4fa52",
   "metadata": {},
   "outputs": [],
   "source": [
    "# what about when you play once a week for 50 years, equaling 2600 weeks \n",
    "years = 50 \n",
    "weeks = years * 52 "
   ]
  },
  {
   "cell_type": "code",
   "execution_count": 9,
   "id": "72fe90dc",
   "metadata": {},
   "outputs": [
    {
     "name": "stdout",
     "output_type": "stream",
     "text": [
      "0.9998140880573435\n"
     ]
    }
   ],
   "source": [
    "# the probability of not winning is \n",
    "prob_lose = (1-chance_win)**weeks \n",
    "print(prob_lose)"
   ]
  },
  {
   "cell_type": "code",
   "execution_count": 10,
   "id": "7f9c9ef6",
   "metadata": {},
   "outputs": [
    {
     "name": "stdout",
     "output_type": "stream",
     "text": [
      "0.00018591194265649147\n"
     ]
    }
   ],
   "source": [
    "# therefore the prob of winning is \n",
    "prob_win = 1 - prob_lose\n",
    "print(prob_win)"
   ]
  }
 ],
 "metadata": {
  "kernelspec": {
   "display_name": "Python 3 (ipykernel)",
   "language": "python",
   "name": "python3"
  },
  "language_info": {
   "codemirror_mode": {
    "name": "ipython",
    "version": 3
   },
   "file_extension": ".py",
   "mimetype": "text/x-python",
   "name": "python",
   "nbconvert_exporter": "python",
   "pygments_lexer": "ipython3",
   "version": "3.10.12"
  }
 },
 "nbformat": 4,
 "nbformat_minor": 5
}
